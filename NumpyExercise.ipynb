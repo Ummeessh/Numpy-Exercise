{
 "cells": [
  {
   "cell_type": "markdown",
   "id": "7666a355-0524-4083-b2a8-7e5cc7c07030",
   "metadata": {},
   "source": [
    "# Numpy Exercise"
   ]
  },
  {
   "cell_type": "code",
   "execution_count": 2,
   "id": "82e59eca-a537-4822-8fd4-ff2cbf35944a",
   "metadata": {},
   "outputs": [],
   "source": [
    "# Import NumPy as its abbreviation 'np'\n",
    "import numpy as np"
   ]
  },
  {
   "cell_type": "code",
   "execution_count": 18,
   "id": "322f3b2d-5535-4ead-97f6-d2ac9a1da740",
   "metadata": {},
   "outputs": [
    {
     "data": {
      "text/plain": [
       "((3,), (2, 3), (2, 2, 3))"
      ]
     },
     "execution_count": 18,
     "metadata": {},
     "output_type": "execute_result"
    }
   ],
   "source": [
    "# Create a 1-dimensional NumPy array using np.array()\n",
    "matrix1 = np.array([1,2,3])\n",
    "\n",
    "# Create a 2-dimensional NumPy array using np.array()\n",
    "matrix2 = np.array([[1,2,3],[4,5,6]])\n",
    "\n",
    "# Create a 3-dimensional Numpy array using np.array()\n",
    "matrix3 = np.array([[[1,2,3],[4,5,6]],[[7,8,9],[10,11,12]]])\n",
    "matrix1.shape, matrix2.shape, matrix3.shape"
   ]
  },
  {
   "cell_type": "markdown",
   "id": "613bfafa-ba7d-4b33-8051-c324c5ba4954",
   "metadata": {},
   "source": [
    "Now we've you've created 3 different arrays, let's find details about them.\n",
    "\n",
    "Find the shape, number of dimensions, data type, size and type of each array."
   ]
  },
  {
   "cell_type": "code",
   "execution_count": 19,
   "id": "7836e4ca-dad8-4ce2-a60d-6d80b47ad88d",
   "metadata": {},
   "outputs": [
    {
     "data": {
      "text/plain": [
       "((3,), dtype('int32'), 3)"
      ]
     },
     "execution_count": 19,
     "metadata": {},
     "output_type": "execute_result"
    }
   ],
   "source": [
    "# Attributes of 1-dimensional array (shape,\n",
    "# number of dimensions, data type, size and type)\n",
    "matrix1.shape, matrix1.dtype, matrix1.size"
   ]
  },
  {
   "cell_type": "code",
   "execution_count": 20,
   "id": "3f3127f4-1473-4c18-bb42-2e160ab6fabc",
   "metadata": {},
   "outputs": [
    {
     "data": {
      "text/plain": [
       "((2, 3), dtype('int32'), 6)"
      ]
     },
     "execution_count": 20,
     "metadata": {},
     "output_type": "execute_result"
    }
   ],
   "source": [
    "# Attributes of 2-dimensional array\n",
    "matrix2.shape, matrix2.dtype, matrix2.size"
   ]
  },
  {
   "cell_type": "code",
   "execution_count": 21,
   "id": "9f9b1cf6-6ba0-42c6-82b9-f2a5a5277497",
   "metadata": {},
   "outputs": [
    {
     "data": {
      "text/plain": [
       "((2, 2, 3), dtype('int32'), 12)"
      ]
     },
     "execution_count": 21,
     "metadata": {},
     "output_type": "execute_result"
    }
   ],
   "source": [
    "# Attributes of 3-dimensional array\n",
    "matrix3.shape, matrix3.dtype, matrix3.size"
   ]
  },
  {
   "cell_type": "code",
   "execution_count": 23,
   "id": "37c63ad6-5aeb-4f1b-a076-a1eba1303026",
   "metadata": {},
   "outputs": [
    {
     "data": {
      "text/html": [
       "<div>\n",
       "<style scoped>\n",
       "    .dataframe tbody tr th:only-of-type {\n",
       "        vertical-align: middle;\n",
       "    }\n",
       "\n",
       "    .dataframe tbody tr th {\n",
       "        vertical-align: top;\n",
       "    }\n",
       "\n",
       "    .dataframe thead th {\n",
       "        text-align: right;\n",
       "    }\n",
       "</style>\n",
       "<table border=\"1\" class=\"dataframe\">\n",
       "  <thead>\n",
       "    <tr style=\"text-align: right;\">\n",
       "      <th></th>\n",
       "      <th>A</th>\n",
       "      <th>B</th>\n",
       "      <th>C</th>\n",
       "    </tr>\n",
       "  </thead>\n",
       "  <tbody>\n",
       "    <tr>\n",
       "      <th>0</th>\n",
       "      <td>1</td>\n",
       "      <td>2</td>\n",
       "      <td>3</td>\n",
       "    </tr>\n",
       "    <tr>\n",
       "      <th>1</th>\n",
       "      <td>4</td>\n",
       "      <td>5</td>\n",
       "      <td>6</td>\n",
       "    </tr>\n",
       "  </tbody>\n",
       "</table>\n",
       "</div>"
      ],
      "text/plain": [
       "   A  B  C\n",
       "0  1  2  3\n",
       "1  4  5  6"
      ]
     },
     "execution_count": 23,
     "metadata": {},
     "output_type": "execute_result"
    }
   ],
   "source": [
    "# Import pandas and create a DataFrame out of one\n",
    "# of the arrays you've created\n",
    "import pandas as pd\n",
    "data = pd.DataFrame(matrix2, columns=['A', 'B', 'C'])\n",
    "data"
   ]
  },
  {
   "cell_type": "code",
   "execution_count": 17,
   "id": "7fae51af-9410-4dc0-866b-7e1006e469dc",
   "metadata": {},
   "outputs": [
    {
     "data": {
      "text/plain": [
       "array([[1., 1.],\n",
       "       [1., 1.],\n",
       "       [1., 1.],\n",
       "       [1., 1.],\n",
       "       [1., 1.],\n",
       "       [1., 1.],\n",
       "       [1., 1.],\n",
       "       [1., 1.],\n",
       "       [1., 1.],\n",
       "       [1., 1.]])"
      ]
     },
     "execution_count": 17,
     "metadata": {},
     "output_type": "execute_result"
    }
   ],
   "source": [
    "# Create an array of shape (10, 2) with only ones\n",
    "array_ones = np.ones((10,2))\n",
    "array_ones"
   ]
  },
  {
   "cell_type": "code",
   "execution_count": 24,
   "id": "7637fc33-bbcb-4dd0-acc4-bc527315ef86",
   "metadata": {},
   "outputs": [
    {
     "data": {
      "text/plain": [
       "array([[[0., 0., 0.],\n",
       "        [0., 0., 0.]],\n",
       "\n",
       "       [[0., 0., 0.],\n",
       "        [0., 0., 0.]],\n",
       "\n",
       "       [[0., 0., 0.],\n",
       "        [0., 0., 0.]],\n",
       "\n",
       "       [[0., 0., 0.],\n",
       "        [0., 0., 0.]],\n",
       "\n",
       "       [[0., 0., 0.],\n",
       "        [0., 0., 0.]],\n",
       "\n",
       "       [[0., 0., 0.],\n",
       "        [0., 0., 0.]],\n",
       "\n",
       "       [[0., 0., 0.],\n",
       "        [0., 0., 0.]]])"
      ]
     },
     "execution_count": 24,
     "metadata": {},
     "output_type": "execute_result"
    }
   ],
   "source": [
    "# Create an array of shape (7, 2, 3) of only zeros\n",
    "array_zeros = np.zeros((7,2,3))\n",
    "array_zeros"
   ]
  },
  {
   "cell_type": "code",
   "execution_count": 25,
   "id": "949d43e6-e512-4c07-a1b0-6c105d3b6c3e",
   "metadata": {},
   "outputs": [
    {
     "data": {
      "text/plain": [
       "array([ 0,  3,  6,  9, 12, 15, 18, 21, 24, 27, 30, 33, 36, 39, 42, 45, 48,\n",
       "       51, 54, 57, 60, 63, 66, 69, 72, 75, 78, 81, 84, 87, 90, 93, 96, 99])"
      ]
     },
     "execution_count": 25,
     "metadata": {},
     "output_type": "execute_result"
    }
   ],
   "source": [
    "# Create an array within a range of 0 and 100 with step 3\n",
    "array = np.arange(0, 100, 3)\n",
    "array"
   ]
  },
  {
   "cell_type": "code",
   "execution_count": 39,
   "id": "981b5dea-f506-4134-b3f8-ef6ac27e0f02",
   "metadata": {},
   "outputs": [
    {
     "data": {
      "text/plain": [
       "array([[6, 1],\n",
       "       [2, 0],\n",
       "       [4, 0],\n",
       "       [7, 0],\n",
       "       [0, 1],\n",
       "       [1, 5],\n",
       "       [6, 4]])"
      ]
     },
     "execution_count": 39,
     "metadata": {},
     "output_type": "execute_result"
    }
   ],
   "source": [
    "# Create a random array with numbers between 0 and 10 of size (7, 2)\n",
    "np.random.randint(0, 10, (7,2))"
   ]
  },
  {
   "cell_type": "code",
   "execution_count": 37,
   "id": "bf56e510-5138-47d4-98e9-25ae4b171074",
   "metadata": {},
   "outputs": [
    {
     "data": {
      "text/plain": [
       "array([[0.87146059, 0.80367208, 0.18657006, 0.892559  , 0.53934224],\n",
       "       [0.80744016, 0.8960913 , 0.31800347, 0.11005192, 0.22793516],\n",
       "       [0.42710779, 0.81801477, 0.86073058, 0.00695213, 0.5107473 ]])"
      ]
     },
     "execution_count": 37,
     "metadata": {},
     "output_type": "execute_result"
    }
   ],
   "source": [
    "# Create a random array of floats between 0 & 1 of shape (3, 5)\n",
    "randomArray = np.random.rand(3,5)\n",
    "randomArray"
   ]
  },
  {
   "cell_type": "code",
   "execution_count": 4,
   "id": "518eefe3-068f-4893-9a2f-f0f11a68073f",
   "metadata": {},
   "outputs": [
    {
     "data": {
      "text/plain": [
       "array([[6, 3, 7, 4, 6, 9],\n",
       "       [2, 6, 7, 4, 3, 7],\n",
       "       [7, 2, 5, 4, 1, 7],\n",
       "       [5, 1, 4, 0, 9, 5]])"
      ]
     },
     "execution_count": 4,
     "metadata": {},
     "output_type": "execute_result"
    }
   ],
   "source": [
    "# Set the random seed to 42\n",
    "np.random.seed(42)\n",
    "\n",
    "# Create a random array of numbers between 0 & 10 of size (4, 6)\n",
    "np.random.randint(0, 10, (4,6))"
   ]
  },
  {
   "cell_type": "markdown",
   "id": "2edba32f-6142-4737-9537-72388475384d",
   "metadata": {},
   "source": [
    "Run the cell above again, what happens?\n",
    "\n",
    "Ans: An array of size (4,6) with random numbers is generated.\n",
    "\n",
    "Are the numbers in the array different or the same? Why do think this is?\n",
    "\n",
    "Ans: The numbers are same. The numbers are same becaues we have kept a random seed of 42 while generating the numbers so it remains constant regardless of different systems."
   ]
  },
  {
   "cell_type": "code",
   "execution_count": 42,
   "id": "3e96a643-9a58-4e05-85be-8343a2ce20a7",
   "metadata": {},
   "outputs": [
    {
     "data": {
      "text/plain": [
       "array([[7, 8, 3, 1, 4, 2, 8],\n",
       "       [4, 2, 6, 6, 4, 6, 2],\n",
       "       [2, 4, 8, 7, 9, 8, 5]])"
      ]
     },
     "execution_count": 42,
     "metadata": {},
     "output_type": "execute_result"
    }
   ],
   "source": [
    "# Create an array of random numbers between 1 & 10 of size (3, 7)\n",
    "# and save it to a variable\n",
    "random_array = np.random.randint(1, 10, (3,7))\n",
    "\n",
    "# Find the unique numbers in the array you just created\n",
    "random_array"
   ]
  },
  {
   "cell_type": "code",
   "execution_count": 43,
   "id": "1b322166-6621-4d0b-9fd9-c75e3042764d",
   "metadata": {},
   "outputs": [
    {
     "data": {
      "text/plain": [
       "7"
      ]
     },
     "execution_count": 43,
     "metadata": {},
     "output_type": "execute_result"
    }
   ],
   "source": [
    "# Find the 0'th index of the latest array you created\n",
    "random_array[0][0]"
   ]
  },
  {
   "cell_type": "code",
   "execution_count": 44,
   "id": "3c13cb67-dc12-4982-b682-556799881840",
   "metadata": {},
   "outputs": [
    {
     "data": {
      "text/plain": [
       "array([[7, 8, 3, 1, 4, 2, 8],\n",
       "       [4, 2, 6, 6, 4, 6, 2]])"
      ]
     },
     "execution_count": 44,
     "metadata": {},
     "output_type": "execute_result"
    }
   ],
   "source": [
    "# Get the first 2 rows of latest array you created\n",
    "random_array[:2]"
   ]
  },
  {
   "cell_type": "code",
   "execution_count": 46,
   "id": "10abbbba-d624-45de-8cd8-fd3573577144",
   "metadata": {},
   "outputs": [
    {
     "data": {
      "text/plain": [
       "array([[7, 8],\n",
       "       [4, 2]])"
      ]
     },
     "execution_count": 46,
     "metadata": {},
     "output_type": "execute_result"
    }
   ],
   "source": [
    "# Get the first 2 values of the first 2 rows of the latest array\n",
    "random_array[:2, :2]"
   ]
  },
  {
   "cell_type": "code",
   "execution_count": 101,
   "id": "810a48a9-d8e7-4b3a-8f3f-121aed2c9a75",
   "metadata": {},
   "outputs": [
    {
     "data": {
      "text/plain": [
       "(array([[6, 8, 8, 2, 2],\n",
       "        [2, 3, 7, 5, 7],\n",
       "        [0, 7, 3, 0, 7]]),\n",
       " array([[1., 1., 1., 1., 1.],\n",
       "        [1., 1., 1., 1., 1.],\n",
       "        [1., 1., 1., 1., 1.]]))"
      ]
     },
     "execution_count": 101,
     "metadata": {},
     "output_type": "execute_result"
    }
   ],
   "source": [
    "# Create a random array of numbers between 0 & 10 and an array of ones\n",
    "# both of size (3, 5), save them both to variables\n",
    "random_array2 = np.random.randint(0, 10, (3,5))\n",
    "array_ones2 = np.ones((3,5))\n",
    "random_array2, array_ones2"
   ]
  },
  {
   "cell_type": "code",
   "execution_count": 102,
   "id": "b5d5d3d2-40d8-4f64-a30e-a0890dee46bb",
   "metadata": {},
   "outputs": [
    {
     "data": {
      "text/plain": [
       "array([[7., 9., 9., 3., 3.],\n",
       "       [3., 4., 8., 6., 8.],\n",
       "       [1., 8., 4., 1., 8.]])"
      ]
     },
     "execution_count": 102,
     "metadata": {},
     "output_type": "execute_result"
    }
   ],
   "source": [
    "# Add the two arrays together\n",
    "sum = random_array2 + array_ones2\n",
    "sum"
   ]
  },
  {
   "cell_type": "code",
   "execution_count": 103,
   "id": "74ff8720-907d-46a6-b187-f199f95e5702",
   "metadata": {},
   "outputs": [
    {
     "data": {
      "text/plain": [
       "array([[1., 1., 1.],\n",
       "       [1., 1., 1.],\n",
       "       [1., 1., 1.],\n",
       "       [1., 1., 1.],\n",
       "       [1., 1., 1.]])"
      ]
     },
     "execution_count": 103,
     "metadata": {},
     "output_type": "execute_result"
    }
   ],
   "source": [
    "# Create another array of ones of shape (5, 3)\n",
    "array_ones3 = np.ones((5,3))\n",
    "array_ones3"
   ]
  },
  {
   "cell_type": "code",
   "execution_count": 104,
   "id": "235ce5ee-1736-497d-83ad-1b1cf7abe16b",
   "metadata": {},
   "outputs": [
    {
     "ename": "ValueError",
     "evalue": "operands could not be broadcast together with shapes (3,5) (5,3) (3,5) ",
     "output_type": "error",
     "traceback": [
      "\u001b[1;31m---------------------------------------------------------------------------\u001b[0m",
      "\u001b[1;31mValueError\u001b[0m                                Traceback (most recent call last)",
      "Cell \u001b[1;32mIn[104], line 2\u001b[0m\n\u001b[0;32m      1\u001b[0m \u001b[38;5;66;03m# Try add the array of ones and the other most recent array together\u001b[39;00m\n\u001b[1;32m----> 2\u001b[0m \u001b[38;5;28msum\u001b[39m \u001b[38;5;241m+\u001b[39m\u001b[38;5;241m=\u001b[39m array_ones3\n",
      "\u001b[1;31mValueError\u001b[0m: operands could not be broadcast together with shapes (3,5) (5,3) (3,5) "
     ]
    }
   ],
   "source": [
    "# Try add the array of ones and the other most recent array together\n",
    "sum += array_ones3"
   ]
  },
  {
   "cell_type": "markdown",
   "id": "690065a8-f23c-4ca6-8cdc-28c1f6907d5d",
   "metadata": {},
   "source": [
    "When you try the last cell, it produces an error. Why do think this is?\n",
    "\n",
    "Ans: NumPy uses broadcasting rules to perform operations on arrays of different shapes. And these Shapes (3,5) (5,3) (3,5) aren't compatible for broadcasting.\n",
    "\n",
    "How would you fix it?\n",
    "\n",
    "Ans: We can fix this by Transpoing the Second Array which makes (3,5) (3,5) (3,5) shapes which will be compatible for broadcasting afterwards."
   ]
  },
  {
   "cell_type": "code",
   "execution_count": 95,
   "id": "1acfa7bd-8a65-40ab-b781-c5e5f355de23",
   "metadata": {},
   "outputs": [
    {
     "data": {
      "text/plain": [
       "array([[1., 1., 1., 1., 1.],\n",
       "       [1., 1., 1., 1., 1.],\n",
       "       [1., 1., 1., 1., 1.]])"
      ]
     },
     "execution_count": 95,
     "metadata": {},
     "output_type": "execute_result"
    }
   ],
   "source": [
    "# Create another array of ones of shape (3, 5)\n",
    "array_ones4 = np.ones((3,5))\n",
    "array_ones4"
   ]
  },
  {
   "cell_type": "code",
   "execution_count": 105,
   "id": "60b335b1-5453-4c7f-8803-35d33e949723",
   "metadata": {},
   "outputs": [
    {
     "data": {
      "text/plain": [
       "array([[6., 8., 8., 2., 2.],\n",
       "       [2., 3., 7., 5., 7.],\n",
       "       [0., 7., 3., 0., 7.]])"
      ]
     },
     "execution_count": 105,
     "metadata": {},
     "output_type": "execute_result"
    }
   ],
   "source": [
    "# Subtract the new array of ones from the other most recent array\n",
    "sum -= array_ones4\n",
    "sum"
   ]
  },
  {
   "cell_type": "code",
   "execution_count": 106,
   "id": "77aa5228-db58-4456-92eb-f039c70d8877",
   "metadata": {},
   "outputs": [
    {
     "data": {
      "text/plain": [
       "array([[6., 8., 8., 2., 2.],\n",
       "       [2., 3., 7., 5., 7.],\n",
       "       [0., 7., 3., 0., 7.]])"
      ]
     },
     "execution_count": 106,
     "metadata": {},
     "output_type": "execute_result"
    }
   ],
   "source": [
    "# Multiply the ones array with the latest array\n",
    "mult = array_ones4 * sum\n",
    "mult"
   ]
  },
  {
   "cell_type": "code",
   "execution_count": 107,
   "id": "2c56d7f9-df6b-452b-a265-f0832b338ac8",
   "metadata": {},
   "outputs": [
    {
     "data": {
      "text/plain": [
       "array([[36., 64., 64.,  4.,  4.],\n",
       "       [ 4.,  9., 49., 25., 49.],\n",
       "       [ 0., 49.,  9.,  0., 49.]])"
      ]
     },
     "execution_count": 107,
     "metadata": {},
     "output_type": "execute_result"
    }
   ],
   "source": [
    "# Take the latest array to the power of 2 using '**'\n",
    "mult ** 2"
   ]
  },
  {
   "cell_type": "code",
   "execution_count": 108,
   "id": "9602b82d-7959-44ca-975a-73ee8dd5b505",
   "metadata": {},
   "outputs": [
    {
     "data": {
      "text/plain": [
       "array([[36., 64., 64.,  4.,  4.],\n",
       "       [ 4.,  9., 49., 25., 49.],\n",
       "       [ 0., 49.,  9.,  0., 49.]])"
      ]
     },
     "execution_count": 108,
     "metadata": {},
     "output_type": "execute_result"
    }
   ],
   "source": [
    "# Do the same thing with np.square()\n",
    "np.square(mult)"
   ]
  },
  {
   "cell_type": "code",
   "execution_count": 109,
   "id": "049d8033-180c-4ced-8ee9-dda3b4b2bcf0",
   "metadata": {},
   "outputs": [
    {
     "data": {
      "text/plain": [
       "4.466666666666667"
      ]
     },
     "execution_count": 109,
     "metadata": {},
     "output_type": "execute_result"
    }
   ],
   "source": [
    "# Find the mean of the latest array using np.mean()\n",
    "np.mean(mult)"
   ]
  },
  {
   "cell_type": "code",
   "execution_count": 110,
   "id": "9883e51d-357c-4671-8693-0b35ebddbb8c",
   "metadata": {},
   "outputs": [
    {
     "data": {
      "text/plain": [
       "8.0"
      ]
     },
     "execution_count": 110,
     "metadata": {},
     "output_type": "execute_result"
    }
   ],
   "source": [
    "# Find the maximum of the latest array using np.max()\n",
    "np.max(mult)"
   ]
  },
  {
   "cell_type": "code",
   "execution_count": 111,
   "id": "3edba692-54a5-4a3f-a75c-c20393857864",
   "metadata": {},
   "outputs": [
    {
     "data": {
      "text/plain": [
       "0.0"
      ]
     },
     "execution_count": 111,
     "metadata": {},
     "output_type": "execute_result"
    }
   ],
   "source": [
    "# Find the minimum of the latest array using np.min()\n",
    "np.min(mult)"
   ]
  },
  {
   "cell_type": "code",
   "execution_count": 112,
   "id": "99a050db-f4e8-4e13-9028-217f4c286fc2",
   "metadata": {},
   "outputs": [
    {
     "data": {
      "text/plain": [
       "2.777688887466621"
      ]
     },
     "execution_count": 112,
     "metadata": {},
     "output_type": "execute_result"
    }
   ],
   "source": [
    "# Find the standard deviation of the latest array\n",
    "np.std(mult)"
   ]
  },
  {
   "cell_type": "code",
   "execution_count": 113,
   "id": "6b9cfeed-d87d-4633-98e6-70d61d3d1529",
   "metadata": {},
   "outputs": [
    {
     "data": {
      "text/plain": [
       "7.715555555555554"
      ]
     },
     "execution_count": 113,
     "metadata": {},
     "output_type": "execute_result"
    }
   ],
   "source": [
    "# Find the variance of the latest array\n",
    "np.var(mult)"
   ]
  },
  {
   "cell_type": "code",
   "execution_count": 114,
   "id": "56524f53-c8b6-4b4c-9061-0ef4deee0f10",
   "metadata": {},
   "outputs": [
    {
     "data": {
      "text/plain": [
       "array([[[6.],\n",
       "        [8.],\n",
       "        [8.],\n",
       "        [2.],\n",
       "        [2.]],\n",
       "\n",
       "       [[2.],\n",
       "        [3.],\n",
       "        [7.],\n",
       "        [5.],\n",
       "        [7.]],\n",
       "\n",
       "       [[0.],\n",
       "        [7.],\n",
       "        [3.],\n",
       "        [0.],\n",
       "        [7.]]])"
      ]
     },
     "execution_count": 114,
     "metadata": {},
     "output_type": "execute_result"
    }
   ],
   "source": [
    "# Reshape the latest array to (3, 5, 1)\n",
    "np.reshape(mult, (3,5,1))"
   ]
  },
  {
   "cell_type": "code",
   "execution_count": 115,
   "id": "510891c0-516c-4dec-949e-7d56b8ff4587",
   "metadata": {},
   "outputs": [
    {
     "data": {
      "text/plain": [
       "array([[6., 2., 0.],\n",
       "       [8., 3., 7.],\n",
       "       [8., 7., 3.],\n",
       "       [2., 5., 0.],\n",
       "       [2., 7., 7.]])"
      ]
     },
     "execution_count": 115,
     "metadata": {},
     "output_type": "execute_result"
    }
   ],
   "source": [
    "# Transpose the latest array\n",
    "mult.T"
   ]
  },
  {
   "cell_type": "markdown",
   "id": "185c5ed5-4eb8-495b-8040-fc304280535d",
   "metadata": {},
   "source": [
    "What does the transpose do?\n",
    "\n",
    "Ans: Transpose is an operation that flips a matrix over its diagonal, swapping its rows with columns. So in above output the rows and columns were swapped."
   ]
  },
  {
   "cell_type": "code",
   "execution_count": 69,
   "id": "4dd0c39c-2614-4dfe-af84-e9d39291e984",
   "metadata": {},
   "outputs": [],
   "source": [
    "# Create two arrays of random integers between 0 to 10\n",
    "# one of size (3, 3) the other of size (3, 2)\n",
    "random1 = np.random.randint(0, 10, (3,3))\n",
    "random2 = np.random.randint(0, 10, (3,2))"
   ]
  },
  {
   "cell_type": "code",
   "execution_count": 71,
   "id": "631f24c5-8ea5-4002-bb1e-df3a122cab99",
   "metadata": {},
   "outputs": [
    {
     "data": {
      "text/plain": [
       "array([[67, 93],\n",
       "       [79, 81],\n",
       "       [92, 98]])"
      ]
     },
     "execution_count": 71,
     "metadata": {},
     "output_type": "execute_result"
    }
   ],
   "source": [
    "# Perform a dot product on the two newest arrays you created\n",
    "np.dot(random1, random2)"
   ]
  },
  {
   "cell_type": "code",
   "execution_count": 72,
   "id": "1ad24cda-72ee-421e-a707-1123713af791",
   "metadata": {},
   "outputs": [],
   "source": [
    "# Create two arrays of random integers between 0 to 10\n",
    "# both of size (4, 3)\n",
    "random3 = np.random.randint(0, 10, (4,3))\n",
    "random4 = np.random.randint(0, 10, (4,3))"
   ]
  },
  {
   "cell_type": "code",
   "execution_count": 73,
   "id": "8645d2e0-cc4f-473d-8456-acf4fc98008b",
   "metadata": {},
   "outputs": [
    {
     "ename": "ValueError",
     "evalue": "shapes (4,3) and (4,3) not aligned: 3 (dim 1) != 4 (dim 0)",
     "output_type": "error",
     "traceback": [
      "\u001b[1;31m---------------------------------------------------------------------------\u001b[0m",
      "\u001b[1;31mValueError\u001b[0m                                Traceback (most recent call last)",
      "Cell \u001b[1;32mIn[73], line 2\u001b[0m\n\u001b[0;32m      1\u001b[0m \u001b[38;5;66;03m# Perform a dot product on the two newest arrays you created\u001b[39;00m\n\u001b[1;32m----> 2\u001b[0m np\u001b[38;5;241m.\u001b[39mdot(random3, random4)\n",
      "\u001b[1;31mValueError\u001b[0m: shapes (4,3) and (4,3) not aligned: 3 (dim 1) != 4 (dim 0)"
     ]
    }
   ],
   "source": [
    "# Perform a dot product on the two newest arrays you created\n",
    "np.dot(random3, random4)"
   ]
  },
  {
   "cell_type": "markdown",
   "id": "225f4b64-cbaf-47fe-980e-851da56040b7",
   "metadata": {},
   "source": [
    "It doesn't work. How would you fix it?\n",
    "\n",
    "Ans: Since the dimension aren't matching for doing a matrix multiplication. So we can do a Transpose of second matrix/array and perform the matrix multiplication."
   ]
  },
  {
   "cell_type": "code",
   "execution_count": 74,
   "id": "24d582d7-3b58-4954-9382-1ecbd1095aaf",
   "metadata": {},
   "outputs": [
    {
     "data": {
      "text/plain": [
       "array([[56, 11, 60,  6],\n",
       "       [ 0, 24, 36, 21],\n",
       "       [42, 17, 40,  4],\n",
       "       [ 0,  4, 16,  8]])"
      ]
     },
     "execution_count": 74,
     "metadata": {},
     "output_type": "execute_result"
    }
   ],
   "source": [
    "# Take the latest two arrays, perform a transpose on one of them and then perform\n",
    "# a dot product on them both\n",
    "np.dot(random3, random4.T)"
   ]
  },
  {
   "cell_type": "markdown",
   "id": "1d3d03b4-f3ff-4212-9009-4fe1ccda13bf",
   "metadata": {},
   "source": [
    "Notice how performing a transpose allows the dot product to happen.\n",
    "\n",
    "Why is this?\n",
    "\n",
    "Ans: Because the dimension of the second matrix which was (4,3) was changed to (3,4). Now the first matrix is in (4 x 3) form and second matrix is in (3 x 4) form which will be in the form (4 x 4) after dot product so the dot product happens. \n",
    "\n",
    "Checking out the documentation on np.dot() may help, as well as reading Math is Fun's guide on the dot product.\n",
    "\n",
    "Let's now compare arrays."
   ]
  },
  {
   "cell_type": "code",
   "execution_count": 8,
   "id": "9daf8dbf-1ce8-4f60-9a7c-d81684165d18",
   "metadata": {},
   "outputs": [
    {
     "data": {
      "text/plain": [
       "(array([[8, 0, 9],\n",
       "        [2, 6, 3],\n",
       "        [8, 2, 4]]),\n",
       " array([[2, 6, 4],\n",
       "        [8, 6, 1],\n",
       "        [3, 8, 1]]))"
      ]
     },
     "execution_count": 8,
     "metadata": {},
     "output_type": "execute_result"
    }
   ],
   "source": [
    "# Create two arrays of random integers between 0 & 10 of the same shape\n",
    "# and save them to variables\n",
    "array1 = np.random.randint(0, 10, (3,3))     \n",
    "array2 = np.random.randint(0, 10, (3,3))\n",
    "array1, array2"
   ]
  },
  {
   "cell_type": "code",
   "execution_count": 9,
   "id": "7e8649ec-f045-4930-9971-54dd3a388ea1",
   "metadata": {},
   "outputs": [
    {
     "data": {
      "text/plain": [
       "array([[ True, False,  True],\n",
       "       [False, False,  True],\n",
       "       [ True, False,  True]])"
      ]
     },
     "execution_count": 9,
     "metadata": {},
     "output_type": "execute_result"
    }
   ],
   "source": [
    "# Compare the two arrays with '>'\n",
    "array1 > array2"
   ]
  },
  {
   "cell_type": "markdown",
   "id": "52c3ea6b-8d46-44ae-b2f4-902a17ae7ae8",
   "metadata": {},
   "source": [
    "What happens when you compare the arrays with >?\n",
    "\n",
    "Ans: When comparing the arrays with \">\" both arrays are compared element wise and the output is given in the form of \"True\" and \"False\" after comparing each elements in it's position on both arrays. Example:- 8 is greater than 2 so it returns True."
   ]
  },
  {
   "cell_type": "code",
   "execution_count": 78,
   "id": "3f398390-dab7-47fb-8ae9-2311c49ba742",
   "metadata": {},
   "outputs": [
    {
     "data": {
      "text/plain": [
       "array([[False,  True,  True],\n",
       "       [ True, False,  True],\n",
       "       [ True, False,  True]])"
      ]
     },
     "execution_count": 78,
     "metadata": {},
     "output_type": "execute_result"
    }
   ],
   "source": [
    "# Compare the two arrays with '>='\n",
    "array1 >= array2"
   ]
  },
  {
   "cell_type": "code",
   "execution_count": 79,
   "id": "a9bc0527-9e9e-4966-be14-197d0d2dfbd4",
   "metadata": {},
   "outputs": [
    {
     "data": {
      "text/plain": [
       "array([9])"
      ]
     },
     "execution_count": 79,
     "metadata": {},
     "output_type": "execute_result"
    }
   ],
   "source": [
    "# Find which elements of the first array are greater than 7\n",
    "mask = array1 > 7\n",
    "array1[mask]"
   ]
  },
  {
   "cell_type": "code",
   "execution_count": 81,
   "id": "7d27cfcb-aed5-4fb0-a943-2ffc5b53f8c5",
   "metadata": {},
   "outputs": [
    {
     "data": {
      "text/plain": [
       "array([5])"
      ]
     },
     "execution_count": 81,
     "metadata": {},
     "output_type": "execute_result"
    }
   ],
   "source": [
    "# Which parts of each array are equal? (try using '==')\n",
    "mask = array1 == array2\n",
    "array1[mask]"
   ]
  },
  {
   "cell_type": "code",
   "execution_count": 82,
   "id": "2f67878b-86cd-43c7-90a9-9fae4b128843",
   "metadata": {},
   "outputs": [
    {
     "data": {
      "text/plain": [
       "array([[4, 5, 9],\n",
       "       [3, 6, 6],\n",
       "       [0, 5, 7]])"
      ]
     },
     "execution_count": 82,
     "metadata": {},
     "output_type": "execute_result"
    }
   ],
   "source": [
    "# Sort one of the arrays you just created in ascending order\n",
    "np.sort(array1)"
   ]
  },
  {
   "cell_type": "code",
   "execution_count": 83,
   "id": "45c4eed0-761c-42b7-b773-1a220264aff8",
   "metadata": {},
   "outputs": [
    {
     "data": {
      "text/plain": [
       "array([[0, 2, 1],\n",
       "       [1, 0, 2],\n",
       "       [1, 2, 0]], dtype=int64)"
      ]
     },
     "execution_count": 83,
     "metadata": {},
     "output_type": "execute_result"
    }
   ],
   "source": [
    "# Sort the indexes of one of the arrays you just created\n",
    "np.argsort(array1, axis=1)"
   ]
  },
  {
   "cell_type": "code",
   "execution_count": 85,
   "id": "8534b44b-d279-4966-b2ea-dd2a5b200829",
   "metadata": {},
   "outputs": [
    {
     "data": {
      "text/plain": [
       "(0, 1)"
      ]
     },
     "execution_count": 85,
     "metadata": {},
     "output_type": "execute_result"
    }
   ],
   "source": [
    "# Find the index with the maximum value in one of the arrays you've created\n",
    "np.unravel_index(np.argmax(array1), array1.shape)"
   ]
  },
  {
   "cell_type": "code",
   "execution_count": 88,
   "id": "451dcc64-64c8-4eb1-9c95-0e0f853c8e91",
   "metadata": {},
   "outputs": [
    {
     "data": {
      "text/plain": [
       "(2, 0)"
      ]
     },
     "execution_count": 88,
     "metadata": {},
     "output_type": "execute_result"
    }
   ],
   "source": [
    "# Find the index with the minimum value in one of the arrays you've created\n",
    "np.unravel_index(np.argmin(array2), array2.shape)"
   ]
  },
  {
   "cell_type": "code",
   "execution_count": 89,
   "id": "8587c4f3-d2c6-49b7-8ac9-3f84df80b65f",
   "metadata": {},
   "outputs": [
    {
     "data": {
      "text/plain": [
       "array([1, 0, 0], dtype=int64)"
      ]
     },
     "execution_count": 89,
     "metadata": {},
     "output_type": "execute_result"
    }
   ],
   "source": [
    "# Find the indexes with the maximum values down the 1st axis (axis=1)\n",
    "# of one of the arrays you created\n",
    "np.argmax(array1, axis=1)"
   ]
  },
  {
   "cell_type": "code",
   "execution_count": 90,
   "id": "0ffbbb89-b2f0-4d29-b597-fd37151331c5",
   "metadata": {},
   "outputs": [
    {
     "data": {
      "text/plain": [
       "array([0, 2, 0], dtype=int64)"
      ]
     },
     "execution_count": 90,
     "metadata": {},
     "output_type": "execute_result"
    }
   ],
   "source": [
    "# Find the indexes with the minimum values across the 0th axis (axis=0)\n",
    "# of one of the arrays you created\n",
    "np.argmin(array1, axis=0)"
   ]
  },
  {
   "cell_type": "code",
   "execution_count": 91,
   "id": "16e6ff40-ca5c-4e02-aa41-261d8b1778e0",
   "metadata": {},
   "outputs": [
    {
     "data": {
      "text/plain": [
       "array([[ 0.7896728 ,  0.43148946, -1.0967523 , -0.68230156],\n",
       "       [ 0.88751161,  0.60548313, -0.72029799, -0.26993377],\n",
       "       [-0.14346223,  0.61700378,  1.2489407 ,  0.06564916]])"
      ]
     },
     "execution_count": 91,
     "metadata": {},
     "output_type": "execute_result"
    }
   ],
   "source": [
    "# Create an array of normally distributed random numbers\n",
    "normal_distrib_arr = np.random.randn(3,4)\n",
    "normal_distrib_arr"
   ]
  },
  {
   "cell_type": "code",
   "execution_count": 92,
   "id": "239e6168-a2ac-49d5-978e-15fe1cc95818",
   "metadata": {},
   "outputs": [
    {
     "data": {
      "text/plain": [
       "array([  1.,  12.,  23.,  34.,  45.,  56.,  67.,  78.,  89., 100.])"
      ]
     },
     "execution_count": 92,
     "metadata": {},
     "output_type": "execute_result"
    }
   ],
   "source": [
    "# Create an array with 10 evenly spaced numbers between 1 and 100\n",
    "np.linspace(1, 100, 10)"
   ]
  }
 ],
 "metadata": {
  "kernelspec": {
   "display_name": "Python [conda env:base] *",
   "language": "python",
   "name": "conda-base-py"
  },
  "language_info": {
   "codemirror_mode": {
    "name": "ipython",
    "version": 3
   },
   "file_extension": ".py",
   "mimetype": "text/x-python",
   "name": "python",
   "nbconvert_exporter": "python",
   "pygments_lexer": "ipython3",
   "version": "3.12.7"
  }
 },
 "nbformat": 4,
 "nbformat_minor": 5
}
